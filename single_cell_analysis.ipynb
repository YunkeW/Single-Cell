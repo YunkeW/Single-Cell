{
 "cells": [
  {
   "cell_type": "code",
   "execution_count": 1,
   "metadata": {},
   "outputs": [],
   "source": [
    "import numpy as np\n",
    "import scanpy as sc"
   ]
  },
  {
   "cell_type": "code",
   "execution_count": 2,
   "metadata": {},
   "outputs": [
    {
     "data": {
      "application/vnd.jupyter.widget-view+json": {
       "model_id": "34e7c955460c44179b420647b4f1e2f7",
       "version_major": 2,
       "version_minor": 0
      },
      "text/plain": [
       "  0%|          | 0.00/501M [00:00<?, ?B/s]"
      ]
     },
     "metadata": {},
     "output_type": "display_data"
    }
   ],
   "source": [
    "# Load dataset\n",
    "adata = sc.read(\n",
    "    filename=\"s4d8_quality_control.h5ad\",\n",
    "    backup_url=\"https://figshare.com/ndownloader/files/40014331\",\n",
    ")"
   ]
  },
  {
   "cell_type": "markdown",
   "metadata": {},
   "source": [
    "- An AnnData object (adata) in Scanpy follows this convention:\n",
    "\n",
    " - `adata.obs` (observations): Per-cell metadata (rows).\n",
    " - `adata.var` (variables): Per-gene metadata (columns).\n",
    " - `adata.X`: The main expression matrix (cells × genes).\n",
    " - `adata.layers`: Additional expression layers (e.g., raw counts, spliced/unspliced counts).\n",
    " - `adata.uns` (unstructured): Miscellaneous annotations (e.g., color schemes, PCA parameters).\n",
    " - `adata.obsm/adata.varm`: Matrices with row- or column-specific embeddings or additional data."
   ]
  },
  {
   "cell_type": "code",
   "execution_count": 3,
   "metadata": {},
   "outputs": [
    {
     "data": {
      "text/plain": [
       "AnnData object with n_obs × n_vars = 14814 × 20171\n",
       "    obs: 'n_genes_by_counts', 'log1p_n_genes_by_counts', 'total_counts', 'log1p_total_counts', 'pct_counts_in_top_20_genes', 'total_counts_mt', 'log1p_total_counts_mt', 'pct_counts_mt', 'total_counts_ribo', 'log1p_total_counts_ribo', 'pct_counts_ribo', 'total_counts_hb', 'log1p_total_counts_hb', 'pct_counts_hb', 'outlier', 'mt_outlier', 'scDblFinder_score', 'scDblFinder_class'\n",
       "    var: 'gene_ids', 'feature_types', 'genome', 'mt', 'ribo', 'hb', 'n_cells_by_counts', 'mean_counts', 'log1p_mean_counts', 'pct_dropout_by_counts', 'total_counts', 'log1p_total_counts', 'n_cells'\n",
       "    layers: 'counts', 'soupX_counts'"
      ]
     },
     "execution_count": 3,
     "metadata": {},
     "output_type": "execute_result"
    }
   ],
   "source": [
    "adata"
   ]
  },
  {
   "cell_type": "code",
   "execution_count": 4,
   "metadata": {},
   "outputs": [
    {
     "data": {
      "text/plain": [
       "(14814, 20171)"
      ]
     },
     "execution_count": 4,
     "metadata": {},
     "output_type": "execute_result"
    }
   ],
   "source": [
    "# Inspect the Dataset Shape\n",
    "adata.shape"
   ]
  },
  {
   "cell_type": "markdown",
   "metadata": {},
   "source": [
    "- Shape: `(14814, 20171)`\n",
    "  - 14814 cells (rows in `adata.obs`)\n",
    "  - 20171 genes (columns in `adata.var`)\n",
    "\n",
    "This tells you that there are roughly **14814** single cells and **20171** measured features (genes) in the dataset."
   ]
  },
  {
   "cell_type": "code",
   "execution_count": 6,
   "metadata": {},
   "outputs": [
    {
     "data": {
      "text/plain": [
       "['n_genes_by_counts',\n",
       " 'log1p_n_genes_by_counts',\n",
       " 'total_counts',\n",
       " 'log1p_total_counts',\n",
       " 'pct_counts_in_top_20_genes',\n",
       " 'total_counts_mt',\n",
       " 'log1p_total_counts_mt',\n",
       " 'pct_counts_mt',\n",
       " 'total_counts_ribo',\n",
       " 'log1p_total_counts_ribo',\n",
       " 'pct_counts_ribo',\n",
       " 'total_counts_hb',\n",
       " 'log1p_total_counts_hb',\n",
       " 'pct_counts_hb',\n",
       " 'outlier',\n",
       " 'mt_outlier',\n",
       " 'scDblFinder_score',\n",
       " 'scDblFinder_class']"
      ]
     },
     "execution_count": 6,
     "metadata": {},
     "output_type": "execute_result"
    }
   ],
   "source": [
    "# List available cell metadata fields\n",
    "adata.obs_keys()"
   ]
  },
  {
   "cell_type": "code",
   "execution_count": 7,
   "metadata": {},
   "outputs": [
    {
     "data": {
      "text/html": [
       "<div>\n",
       "<style scoped>\n",
       "    .dataframe tbody tr th:only-of-type {\n",
       "        vertical-align: middle;\n",
       "    }\n",
       "\n",
       "    .dataframe tbody tr th {\n",
       "        vertical-align: top;\n",
       "    }\n",
       "\n",
       "    .dataframe thead th {\n",
       "        text-align: right;\n",
       "    }\n",
       "</style>\n",
       "<table border=\"1\" class=\"dataframe\">\n",
       "  <thead>\n",
       "    <tr style=\"text-align: right;\">\n",
       "      <th></th>\n",
       "      <th>gene_ids</th>\n",
       "      <th>feature_types</th>\n",
       "      <th>genome</th>\n",
       "      <th>mt</th>\n",
       "      <th>ribo</th>\n",
       "      <th>hb</th>\n",
       "      <th>n_cells_by_counts</th>\n",
       "      <th>mean_counts</th>\n",
       "      <th>log1p_mean_counts</th>\n",
       "      <th>pct_dropout_by_counts</th>\n",
       "      <th>total_counts</th>\n",
       "      <th>log1p_total_counts</th>\n",
       "      <th>n_cells</th>\n",
       "    </tr>\n",
       "  </thead>\n",
       "  <tbody>\n",
       "    <tr>\n",
       "      <th>AL627309.1</th>\n",
       "      <td>ENSG00000238009</td>\n",
       "      <td>Gene Expression</td>\n",
       "      <td>GRCh38</td>\n",
       "      <td>False</td>\n",
       "      <td>False</td>\n",
       "      <td>False</td>\n",
       "      <td>30</td>\n",
       "      <td>0.001831</td>\n",
       "      <td>0.001829</td>\n",
       "      <td>99.822842</td>\n",
       "      <td>31.0</td>\n",
       "      <td>3.465736</td>\n",
       "      <td>27</td>\n",
       "    </tr>\n",
       "    <tr>\n",
       "      <th>AL627309.5</th>\n",
       "      <td>ENSG00000241860</td>\n",
       "      <td>Gene Expression</td>\n",
       "      <td>GRCh38</td>\n",
       "      <td>False</td>\n",
       "      <td>False</td>\n",
       "      <td>False</td>\n",
       "      <td>146</td>\n",
       "      <td>0.008976</td>\n",
       "      <td>0.008936</td>\n",
       "      <td>99.137829</td>\n",
       "      <td>152.0</td>\n",
       "      <td>5.030438</td>\n",
       "      <td>126</td>\n",
       "    </tr>\n",
       "    <tr>\n",
       "      <th>LINC01409</th>\n",
       "      <td>ENSG00000237491</td>\n",
       "      <td>Gene Expression</td>\n",
       "      <td>GRCh38</td>\n",
       "      <td>False</td>\n",
       "      <td>False</td>\n",
       "      <td>False</td>\n",
       "      <td>883</td>\n",
       "      <td>0.063009</td>\n",
       "      <td>0.061104</td>\n",
       "      <td>94.785638</td>\n",
       "      <td>1067.0</td>\n",
       "      <td>6.973543</td>\n",
       "      <td>758</td>\n",
       "    </tr>\n",
       "    <tr>\n",
       "      <th>LINC01128</th>\n",
       "      <td>ENSG00000228794</td>\n",
       "      <td>Gene Expression</td>\n",
       "      <td>GRCh38</td>\n",
       "      <td>False</td>\n",
       "      <td>False</td>\n",
       "      <td>False</td>\n",
       "      <td>533</td>\n",
       "      <td>0.036140</td>\n",
       "      <td>0.035503</td>\n",
       "      <td>96.852486</td>\n",
       "      <td>612.0</td>\n",
       "      <td>6.418365</td>\n",
       "      <td>437</td>\n",
       "    </tr>\n",
       "    <tr>\n",
       "      <th>LINC00115</th>\n",
       "      <td>ENSG00000225880</td>\n",
       "      <td>Gene Expression</td>\n",
       "      <td>GRCh38</td>\n",
       "      <td>False</td>\n",
       "      <td>False</td>\n",
       "      <td>False</td>\n",
       "      <td>72</td>\n",
       "      <td>0.004370</td>\n",
       "      <td>0.004360</td>\n",
       "      <td>99.574820</td>\n",
       "      <td>74.0</td>\n",
       "      <td>4.317488</td>\n",
       "      <td>64</td>\n",
       "    </tr>\n",
       "  </tbody>\n",
       "</table>\n",
       "</div>"
      ],
      "text/plain": [
       "                   gene_ids    feature_types  genome     mt   ribo     hb  \\\n",
       "AL627309.1  ENSG00000238009  Gene Expression  GRCh38  False  False  False   \n",
       "AL627309.5  ENSG00000241860  Gene Expression  GRCh38  False  False  False   \n",
       "LINC01409   ENSG00000237491  Gene Expression  GRCh38  False  False  False   \n",
       "LINC01128   ENSG00000228794  Gene Expression  GRCh38  False  False  False   \n",
       "LINC00115   ENSG00000225880  Gene Expression  GRCh38  False  False  False   \n",
       "\n",
       "            n_cells_by_counts  mean_counts  log1p_mean_counts  \\\n",
       "AL627309.1                 30     0.001831           0.001829   \n",
       "AL627309.5                146     0.008976           0.008936   \n",
       "LINC01409                 883     0.063009           0.061104   \n",
       "LINC01128                 533     0.036140           0.035503   \n",
       "LINC00115                  72     0.004370           0.004360   \n",
       "\n",
       "            pct_dropout_by_counts  total_counts  log1p_total_counts  n_cells  \n",
       "AL627309.1              99.822842          31.0            3.465736       27  \n",
       "AL627309.5              99.137829         152.0            5.030438      126  \n",
       "LINC01409               94.785638        1067.0            6.973543      758  \n",
       "LINC01128               96.852486         612.0            6.418365      437  \n",
       "LINC00115               99.574820          74.0            4.317488       64  "
      ]
     },
     "execution_count": 7,
     "metadata": {},
     "output_type": "execute_result"
    }
   ],
   "source": [
    "# Check gene Metadata\n",
    "adata.var.head()"
   ]
  }
 ],
 "metadata": {
  "kernelspec": {
   "display_name": "base",
   "language": "python",
   "name": "python3"
  },
  "language_info": {
   "codemirror_mode": {
    "name": "ipython",
    "version": 3
   },
   "file_extension": ".py",
   "mimetype": "text/x-python",
   "name": "python",
   "nbconvert_exporter": "python",
   "pygments_lexer": "ipython3",
   "version": "3.11.5"
  }
 },
 "nbformat": 4,
 "nbformat_minor": 2
}
