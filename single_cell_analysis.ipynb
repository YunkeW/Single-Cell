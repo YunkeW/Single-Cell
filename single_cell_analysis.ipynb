{
 "cells": [
  {
   "cell_type": "code",
   "execution_count": 1,
   "metadata": {},
   "outputs": [],
   "source": [
    "import numpy as np\n",
    "import scanpy as sc"
   ]
  },
  {
   "cell_type": "markdown",
   "metadata": {},
   "source": [
    "# 1. Single-Cell RNA-seq Dataset Exploration"
   ]
  },
  {
   "cell_type": "code",
   "execution_count": 2,
   "metadata": {},
   "outputs": [
    {
     "data": {
      "application/vnd.jupyter.widget-view+json": {
       "model_id": "34e7c955460c44179b420647b4f1e2f7",
       "version_major": 2,
       "version_minor": 0
      },
      "text/plain": [
       "  0%|          | 0.00/501M [00:00<?, ?B/s]"
      ]
     },
     "metadata": {},
     "output_type": "display_data"
    }
   ],
   "source": [
    "# Load dataset\n",
    "adata = sc.read(\n",
    "    filename=\"s4d8_quality_control.h5ad\",\n",
    "    backup_url=\"https://figshare.com/ndownloader/files/40014331\",\n",
    ")"
   ]
  },
  {
   "cell_type": "code",
   "execution_count": 5,
   "metadata": {},
   "outputs": [
    {
     "data": {
      "text/plain": [
       "AnnData object with n_obs × n_vars = 14814 × 20171\n",
       "    obs: 'n_genes_by_counts', 'log1p_n_genes_by_counts', 'total_counts', 'log1p_total_counts', 'pct_counts_in_top_20_genes', 'total_counts_mt', 'log1p_total_counts_mt', 'pct_counts_mt', 'total_counts_ribo', 'log1p_total_counts_ribo', 'pct_counts_ribo', 'total_counts_hb', 'log1p_total_counts_hb', 'pct_counts_hb', 'outlier', 'mt_outlier', 'scDblFinder_score', 'scDblFinder_class'\n",
       "    var: 'gene_ids', 'feature_types', 'genome', 'mt', 'ribo', 'hb', 'n_cells_by_counts', 'mean_counts', 'log1p_mean_counts', 'pct_dropout_by_counts', 'total_counts', 'log1p_total_counts', 'n_cells'\n",
       "    layers: 'counts', 'soupX_counts'"
      ]
     },
     "execution_count": 5,
     "metadata": {},
     "output_type": "execute_result"
    }
   ],
   "source": [
    "# Print summary of the dataset\n",
    "adata"
   ]
  },
  {
   "cell_type": "code",
   "execution_count": 4,
   "metadata": {},
   "outputs": [
    {
     "data": {
      "text/plain": [
       "(14814, 20171)"
      ]
     },
     "execution_count": 4,
     "metadata": {},
     "output_type": "execute_result"
    }
   ],
   "source": [
    "# Inspect the Dataset Shape\n",
    "adata.shape"
   ]
  },
  {
   "cell_type": "markdown",
   "metadata": {},
   "source": [
    "- Shape: `(14814, 20171)`\n",
    "  - 14814 cells (rows in `adata.obs`)\n",
    "  - 20171 genes (columns in `adata.var`)\n",
    "\n",
    "This tells you that there are roughly **14814** single cells and **20171** measured features (genes) in the dataset."
   ]
  },
  {
   "cell_type": "markdown",
   "metadata": {},
   "source": [
    "## Observations (Cells)\n",
    "\n",
    "Each row in `adata.obs` corresponds to a single cell.  \n",
    "We'll inspect the first few rows to see what metadata fields are present."
   ]
  },
  {
   "cell_type": "code",
   "execution_count": 6,
   "metadata": {},
   "outputs": [
    {
     "name": "stdout",
     "output_type": "stream",
     "text": [
      "Cell metadata fields: ['n_genes_by_counts', 'log1p_n_genes_by_counts', 'total_counts', 'log1p_total_counts', 'pct_counts_in_top_20_genes', 'total_counts_mt', 'log1p_total_counts_mt', 'pct_counts_mt', 'total_counts_ribo', 'log1p_total_counts_ribo', 'pct_counts_ribo', 'total_counts_hb', 'log1p_total_counts_hb', 'pct_counts_hb', 'outlier', 'mt_outlier', 'scDblFinder_score', 'scDblFinder_class']\n"
     ]
    },
    {
     "data": {
      "text/html": [
       "<div>\n",
       "<style scoped>\n",
       "    .dataframe tbody tr th:only-of-type {\n",
       "        vertical-align: middle;\n",
       "    }\n",
       "\n",
       "    .dataframe tbody tr th {\n",
       "        vertical-align: top;\n",
       "    }\n",
       "\n",
       "    .dataframe thead th {\n",
       "        text-align: right;\n",
       "    }\n",
       "</style>\n",
       "<table border=\"1\" class=\"dataframe\">\n",
       "  <thead>\n",
       "    <tr style=\"text-align: right;\">\n",
       "      <th></th>\n",
       "      <th>n_genes_by_counts</th>\n",
       "      <th>log1p_n_genes_by_counts</th>\n",
       "      <th>total_counts</th>\n",
       "      <th>log1p_total_counts</th>\n",
       "      <th>pct_counts_in_top_20_genes</th>\n",
       "      <th>total_counts_mt</th>\n",
       "      <th>log1p_total_counts_mt</th>\n",
       "      <th>pct_counts_mt</th>\n",
       "      <th>total_counts_ribo</th>\n",
       "      <th>log1p_total_counts_ribo</th>\n",
       "      <th>pct_counts_ribo</th>\n",
       "      <th>total_counts_hb</th>\n",
       "      <th>log1p_total_counts_hb</th>\n",
       "      <th>pct_counts_hb</th>\n",
       "      <th>outlier</th>\n",
       "      <th>mt_outlier</th>\n",
       "      <th>scDblFinder_score</th>\n",
       "      <th>scDblFinder_class</th>\n",
       "    </tr>\n",
       "  </thead>\n",
       "  <tbody>\n",
       "    <tr>\n",
       "      <th>AAACAGCCAAGCTTAT-1</th>\n",
       "      <td>1362</td>\n",
       "      <td>7.217443</td>\n",
       "      <td>2243.0</td>\n",
       "      <td>7.716015</td>\n",
       "      <td>9.719126</td>\n",
       "      <td>18.0</td>\n",
       "      <td>2.944439</td>\n",
       "      <td>0.802497</td>\n",
       "      <td>125.0</td>\n",
       "      <td>4.836282</td>\n",
       "      <td>5.572894</td>\n",
       "      <td>3.0</td>\n",
       "      <td>1.386294</td>\n",
       "      <td>0.133749</td>\n",
       "      <td>False</td>\n",
       "      <td>False</td>\n",
       "      <td>0.036574</td>\n",
       "      <td>singlet</td>\n",
       "    </tr>\n",
       "    <tr>\n",
       "      <th>AAACAGCCATAGCTTG-1</th>\n",
       "      <td>2126</td>\n",
       "      <td>7.662468</td>\n",
       "      <td>4085.0</td>\n",
       "      <td>8.315322</td>\n",
       "      <td>10.820073</td>\n",
       "      <td>63.0</td>\n",
       "      <td>4.158883</td>\n",
       "      <td>1.542228</td>\n",
       "      <td>69.0</td>\n",
       "      <td>4.248495</td>\n",
       "      <td>1.689106</td>\n",
       "      <td>10.0</td>\n",
       "      <td>2.397895</td>\n",
       "      <td>0.244798</td>\n",
       "      <td>False</td>\n",
       "      <td>False</td>\n",
       "      <td>0.718944</td>\n",
       "      <td>doublet</td>\n",
       "    </tr>\n",
       "    <tr>\n",
       "      <th>AAACAGCCATGTTTGG-1</th>\n",
       "      <td>1340</td>\n",
       "      <td>7.201171</td>\n",
       "      <td>2227.0</td>\n",
       "      <td>7.708859</td>\n",
       "      <td>12.977099</td>\n",
       "      <td>30.0</td>\n",
       "      <td>3.433987</td>\n",
       "      <td>1.347104</td>\n",
       "      <td>42.0</td>\n",
       "      <td>3.761200</td>\n",
       "      <td>1.885945</td>\n",
       "      <td>1.0</td>\n",
       "      <td>0.693147</td>\n",
       "      <td>0.044903</td>\n",
       "      <td>False</td>\n",
       "      <td>False</td>\n",
       "      <td>0.214918</td>\n",
       "      <td>singlet</td>\n",
       "    </tr>\n",
       "    <tr>\n",
       "      <th>AAACATGCAACGTGCT-1</th>\n",
       "      <td>828</td>\n",
       "      <td>6.720220</td>\n",
       "      <td>1211.0</td>\n",
       "      <td>7.100027</td>\n",
       "      <td>14.037985</td>\n",
       "      <td>20.0</td>\n",
       "      <td>3.044523</td>\n",
       "      <td>1.651528</td>\n",
       "      <td>44.0</td>\n",
       "      <td>3.806663</td>\n",
       "      <td>3.633361</td>\n",
       "      <td>6.0</td>\n",
       "      <td>1.945910</td>\n",
       "      <td>0.495458</td>\n",
       "      <td>False</td>\n",
       "      <td>False</td>\n",
       "      <td>0.201699</td>\n",
       "      <td>singlet</td>\n",
       "    </tr>\n",
       "    <tr>\n",
       "      <th>AAACATGCAATATAGG-1</th>\n",
       "      <td>551</td>\n",
       "      <td>6.313548</td>\n",
       "      <td>719.0</td>\n",
       "      <td>6.579251</td>\n",
       "      <td>15.020862</td>\n",
       "      <td>8.0</td>\n",
       "      <td>2.197225</td>\n",
       "      <td>1.112656</td>\n",
       "      <td>22.0</td>\n",
       "      <td>3.135494</td>\n",
       "      <td>3.059805</td>\n",
       "      <td>1.0</td>\n",
       "      <td>0.693147</td>\n",
       "      <td>0.139082</td>\n",
       "      <td>False</td>\n",
       "      <td>False</td>\n",
       "      <td>0.034913</td>\n",
       "      <td>singlet</td>\n",
       "    </tr>\n",
       "  </tbody>\n",
       "</table>\n",
       "</div>"
      ],
      "text/plain": [
       "                    n_genes_by_counts  log1p_n_genes_by_counts  total_counts  \\\n",
       "AAACAGCCAAGCTTAT-1               1362                 7.217443        2243.0   \n",
       "AAACAGCCATAGCTTG-1               2126                 7.662468        4085.0   \n",
       "AAACAGCCATGTTTGG-1               1340                 7.201171        2227.0   \n",
       "AAACATGCAACGTGCT-1                828                 6.720220        1211.0   \n",
       "AAACATGCAATATAGG-1                551                 6.313548         719.0   \n",
       "\n",
       "                    log1p_total_counts  pct_counts_in_top_20_genes  \\\n",
       "AAACAGCCAAGCTTAT-1            7.716015                    9.719126   \n",
       "AAACAGCCATAGCTTG-1            8.315322                   10.820073   \n",
       "AAACAGCCATGTTTGG-1            7.708859                   12.977099   \n",
       "AAACATGCAACGTGCT-1            7.100027                   14.037985   \n",
       "AAACATGCAATATAGG-1            6.579251                   15.020862   \n",
       "\n",
       "                    total_counts_mt  log1p_total_counts_mt  pct_counts_mt  \\\n",
       "AAACAGCCAAGCTTAT-1             18.0               2.944439       0.802497   \n",
       "AAACAGCCATAGCTTG-1             63.0               4.158883       1.542228   \n",
       "AAACAGCCATGTTTGG-1             30.0               3.433987       1.347104   \n",
       "AAACATGCAACGTGCT-1             20.0               3.044523       1.651528   \n",
       "AAACATGCAATATAGG-1              8.0               2.197225       1.112656   \n",
       "\n",
       "                    total_counts_ribo  log1p_total_counts_ribo  \\\n",
       "AAACAGCCAAGCTTAT-1              125.0                 4.836282   \n",
       "AAACAGCCATAGCTTG-1               69.0                 4.248495   \n",
       "AAACAGCCATGTTTGG-1               42.0                 3.761200   \n",
       "AAACATGCAACGTGCT-1               44.0                 3.806663   \n",
       "AAACATGCAATATAGG-1               22.0                 3.135494   \n",
       "\n",
       "                    pct_counts_ribo  total_counts_hb  log1p_total_counts_hb  \\\n",
       "AAACAGCCAAGCTTAT-1         5.572894              3.0               1.386294   \n",
       "AAACAGCCATAGCTTG-1         1.689106             10.0               2.397895   \n",
       "AAACAGCCATGTTTGG-1         1.885945              1.0               0.693147   \n",
       "AAACATGCAACGTGCT-1         3.633361              6.0               1.945910   \n",
       "AAACATGCAATATAGG-1         3.059805              1.0               0.693147   \n",
       "\n",
       "                    pct_counts_hb  outlier  mt_outlier  scDblFinder_score  \\\n",
       "AAACAGCCAAGCTTAT-1       0.133749    False       False           0.036574   \n",
       "AAACAGCCATAGCTTG-1       0.244798    False       False           0.718944   \n",
       "AAACAGCCATGTTTGG-1       0.044903    False       False           0.214918   \n",
       "AAACATGCAACGTGCT-1       0.495458    False       False           0.201699   \n",
       "AAACATGCAATATAGG-1       0.139082    False       False           0.034913   \n",
       "\n",
       "                   scDblFinder_class  \n",
       "AAACAGCCAAGCTTAT-1           singlet  \n",
       "AAACAGCCATAGCTTG-1           doublet  \n",
       "AAACAGCCATGTTTGG-1           singlet  \n",
       "AAACATGCAACGTGCT-1           singlet  \n",
       "AAACATGCAATATAGG-1           singlet  "
      ]
     },
     "execution_count": 6,
     "metadata": {},
     "output_type": "execute_result"
    }
   ],
   "source": [
    "# List all columns (metadata fields) in adata.obs\n",
    "print(\"Cell metadata fields:\", adata.obs_keys())\n",
    "\n",
    "# Show the first five rows of the cell metadata\n",
    "adata.obs.head()"
   ]
  },
  {
   "cell_type": "markdown",
   "metadata": {},
   "source": [
    "## Variables (Genes)\n",
    "\n",
    "Each row in `adata.var` corresponds to a gene (or feature).  \n",
    "We'll inspect the first few rows to see what annotations (like gene IDs, chromosome info, etc.) are available."
   ]
  },
  {
   "cell_type": "code",
   "execution_count": 7,
   "metadata": {},
   "outputs": [
    {
     "name": "stdout",
     "output_type": "stream",
     "text": [
      "Gene metadata fields: ['gene_ids', 'feature_types', 'genome', 'mt', 'ribo', 'hb', 'n_cells_by_counts', 'mean_counts', 'log1p_mean_counts', 'pct_dropout_by_counts', 'total_counts', 'log1p_total_counts', 'n_cells']\n"
     ]
    },
    {
     "data": {
      "text/html": [
       "<div>\n",
       "<style scoped>\n",
       "    .dataframe tbody tr th:only-of-type {\n",
       "        vertical-align: middle;\n",
       "    }\n",
       "\n",
       "    .dataframe tbody tr th {\n",
       "        vertical-align: top;\n",
       "    }\n",
       "\n",
       "    .dataframe thead th {\n",
       "        text-align: right;\n",
       "    }\n",
       "</style>\n",
       "<table border=\"1\" class=\"dataframe\">\n",
       "  <thead>\n",
       "    <tr style=\"text-align: right;\">\n",
       "      <th></th>\n",
       "      <th>gene_ids</th>\n",
       "      <th>feature_types</th>\n",
       "      <th>genome</th>\n",
       "      <th>mt</th>\n",
       "      <th>ribo</th>\n",
       "      <th>hb</th>\n",
       "      <th>n_cells_by_counts</th>\n",
       "      <th>mean_counts</th>\n",
       "      <th>log1p_mean_counts</th>\n",
       "      <th>pct_dropout_by_counts</th>\n",
       "      <th>total_counts</th>\n",
       "      <th>log1p_total_counts</th>\n",
       "      <th>n_cells</th>\n",
       "    </tr>\n",
       "  </thead>\n",
       "  <tbody>\n",
       "    <tr>\n",
       "      <th>AL627309.1</th>\n",
       "      <td>ENSG00000238009</td>\n",
       "      <td>Gene Expression</td>\n",
       "      <td>GRCh38</td>\n",
       "      <td>False</td>\n",
       "      <td>False</td>\n",
       "      <td>False</td>\n",
       "      <td>30</td>\n",
       "      <td>0.001831</td>\n",
       "      <td>0.001829</td>\n",
       "      <td>99.822842</td>\n",
       "      <td>31.0</td>\n",
       "      <td>3.465736</td>\n",
       "      <td>27</td>\n",
       "    </tr>\n",
       "    <tr>\n",
       "      <th>AL627309.5</th>\n",
       "      <td>ENSG00000241860</td>\n",
       "      <td>Gene Expression</td>\n",
       "      <td>GRCh38</td>\n",
       "      <td>False</td>\n",
       "      <td>False</td>\n",
       "      <td>False</td>\n",
       "      <td>146</td>\n",
       "      <td>0.008976</td>\n",
       "      <td>0.008936</td>\n",
       "      <td>99.137829</td>\n",
       "      <td>152.0</td>\n",
       "      <td>5.030438</td>\n",
       "      <td>126</td>\n",
       "    </tr>\n",
       "    <tr>\n",
       "      <th>LINC01409</th>\n",
       "      <td>ENSG00000237491</td>\n",
       "      <td>Gene Expression</td>\n",
       "      <td>GRCh38</td>\n",
       "      <td>False</td>\n",
       "      <td>False</td>\n",
       "      <td>False</td>\n",
       "      <td>883</td>\n",
       "      <td>0.063009</td>\n",
       "      <td>0.061104</td>\n",
       "      <td>94.785638</td>\n",
       "      <td>1067.0</td>\n",
       "      <td>6.973543</td>\n",
       "      <td>758</td>\n",
       "    </tr>\n",
       "    <tr>\n",
       "      <th>LINC01128</th>\n",
       "      <td>ENSG00000228794</td>\n",
       "      <td>Gene Expression</td>\n",
       "      <td>GRCh38</td>\n",
       "      <td>False</td>\n",
       "      <td>False</td>\n",
       "      <td>False</td>\n",
       "      <td>533</td>\n",
       "      <td>0.036140</td>\n",
       "      <td>0.035503</td>\n",
       "      <td>96.852486</td>\n",
       "      <td>612.0</td>\n",
       "      <td>6.418365</td>\n",
       "      <td>437</td>\n",
       "    </tr>\n",
       "    <tr>\n",
       "      <th>LINC00115</th>\n",
       "      <td>ENSG00000225880</td>\n",
       "      <td>Gene Expression</td>\n",
       "      <td>GRCh38</td>\n",
       "      <td>False</td>\n",
       "      <td>False</td>\n",
       "      <td>False</td>\n",
       "      <td>72</td>\n",
       "      <td>0.004370</td>\n",
       "      <td>0.004360</td>\n",
       "      <td>99.574820</td>\n",
       "      <td>74.0</td>\n",
       "      <td>4.317488</td>\n",
       "      <td>64</td>\n",
       "    </tr>\n",
       "  </tbody>\n",
       "</table>\n",
       "</div>"
      ],
      "text/plain": [
       "                   gene_ids    feature_types  genome     mt   ribo     hb  \\\n",
       "AL627309.1  ENSG00000238009  Gene Expression  GRCh38  False  False  False   \n",
       "AL627309.5  ENSG00000241860  Gene Expression  GRCh38  False  False  False   \n",
       "LINC01409   ENSG00000237491  Gene Expression  GRCh38  False  False  False   \n",
       "LINC01128   ENSG00000228794  Gene Expression  GRCh38  False  False  False   \n",
       "LINC00115   ENSG00000225880  Gene Expression  GRCh38  False  False  False   \n",
       "\n",
       "            n_cells_by_counts  mean_counts  log1p_mean_counts  \\\n",
       "AL627309.1                 30     0.001831           0.001829   \n",
       "AL627309.5                146     0.008976           0.008936   \n",
       "LINC01409                 883     0.063009           0.061104   \n",
       "LINC01128                 533     0.036140           0.035503   \n",
       "LINC00115                  72     0.004370           0.004360   \n",
       "\n",
       "            pct_dropout_by_counts  total_counts  log1p_total_counts  n_cells  \n",
       "AL627309.1              99.822842          31.0            3.465736       27  \n",
       "AL627309.5              99.137829         152.0            5.030438      126  \n",
       "LINC01409               94.785638        1067.0            6.973543      758  \n",
       "LINC01128               96.852486         612.0            6.418365      437  \n",
       "LINC00115               99.574820          74.0            4.317488       64  "
      ]
     },
     "execution_count": 7,
     "metadata": {},
     "output_type": "execute_result"
    }
   ],
   "source": [
    "# List all columns (metadata fields) in adata.var\n",
    "print(\"Gene metadata fields:\", adata.var_keys())\n",
    "\n",
    "# Show the first five rows of the gene metadata\n",
    "adata.var.head()"
   ]
  },
  {
   "cell_type": "markdown",
   "metadata": {},
   "source": [
    "## Layers\n",
    "\n",
    "Sometimes, an `AnnData` object contains multiple expression layers (e.g., raw counts, corrected counts).  \n",
    "We can check which layers are available and decide which one to use for downstream analysis."
   ]
  },
  {
   "cell_type": "code",
   "execution_count": 9,
   "metadata": {},
   "outputs": [
    {
     "name": "stdout",
     "output_type": "stream",
     "text": [
      "Available layers: ['counts', 'soupX_counts']\n"
     ]
    }
   ],
   "source": [
    "print(\"Available layers:\", list(adata.layers.keys()))"
   ]
  },
  {
   "cell_type": "code",
   "execution_count": 10,
   "metadata": {},
   "outputs": [
    {
     "name": "stdout",
     "output_type": "stream",
     "text": [
      "First 5 cells x 5 genes in 'counts' layer:\n",
      " [[0. 0. 0. 0. 0.]\n",
      " [0. 0. 0. 0. 0.]\n",
      " [0. 0. 0. 0. 0.]\n",
      " [0. 0. 0. 0. 0.]\n",
      " [0. 0. 0. 0. 0.]]\n"
     ]
    }
   ],
   "source": [
    "# Inspect a small slice of 'counts' layer \n",
    "print(\"First 5 cells x 5 genes in 'counts' layer:\\n\", adata.layers[\"counts\"][:5, :5].toarray())"
   ]
  },
  {
   "cell_type": "code",
   "execution_count": 11,
   "metadata": {},
   "outputs": [
    {
     "name": "stdout",
     "output_type": "stream",
     "text": [
      "First 5 cells x 5 genes in 'soupX_counts' layer:\n",
      " [[0. 0. 0. 0. 0.]\n",
      " [0. 0. 0. 0. 0.]\n",
      " [0. 0. 0. 0. 0.]\n",
      " [0. 0. 0. 0. 0.]\n",
      " [0. 0. 0. 0. 0.]]\n"
     ]
    }
   ],
   "source": [
    "# Inspect a small slice of 'soupX_counts' layer \n",
    "print(\"First 5 cells x 5 genes in 'soupX_counts' layer:\\n\", adata.layers[\"soupX_counts\"][:5, :5].toarray())"
   ]
  }
 ],
 "metadata": {
  "kernelspec": {
   "display_name": "base",
   "language": "python",
   "name": "python3"
  },
  "language_info": {
   "codemirror_mode": {
    "name": "ipython",
    "version": 3
   },
   "file_extension": ".py",
   "mimetype": "text/x-python",
   "name": "python",
   "nbconvert_exporter": "python",
   "pygments_lexer": "ipython3",
   "version": "3.11.5"
  }
 },
 "nbformat": 4,
 "nbformat_minor": 2
}
